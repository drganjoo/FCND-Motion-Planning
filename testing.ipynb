{
 "cells": [
  {
   "cell_type": "code",
   "execution_count": 14,
   "metadata": {},
   "outputs": [
    {
     "name": "stdout",
     "output_type": "stream",
     "text": [
      "yes\n",
      "-122.397450\n",
      "37.79248 -122.39745\n"
     ]
    }
   ],
   "source": [
    "import re\n",
    "m = re.match('lat0\\s(.*),\\slon0\\s(.*)', 'lat0 37.792480, lon0 -122.397450')\n",
    "if m:\n",
    "    print('yes')\n",
    "    print(m.group(2))\n",
    "    \n",
    "    lat = float(m.group(1))\n",
    "    lon = float(m.group(2))\n",
    "    print(lat, lon)\n",
    "    "
   ]
  }
 ],
 "metadata": {
  "kernelspec": {
   "display_name": "Python 3",
   "language": "python",
   "name": "python3"
  },
  "language_info": {
   "codemirror_mode": {
    "name": "ipython",
    "version": 3
   },
   "file_extension": ".py",
   "mimetype": "text/x-python",
   "name": "python",
   "nbconvert_exporter": "python",
   "pygments_lexer": "ipython3",
   "version": "3.6.3"
  }
 },
 "nbformat": 4,
 "nbformat_minor": 2
}
